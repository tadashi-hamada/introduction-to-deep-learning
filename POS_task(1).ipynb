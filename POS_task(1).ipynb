{
  "nbformat": 4,
  "nbformat_minor": 0,
  "metadata": {
    "kernelspec": {
      "display_name": "Python 3",
      "language": "python",
      "name": "python3"
    },
    "language_info": {
      "codemirror_mode": {
        "name": "ipython",
        "version": 3
      },
      "file_extension": ".py",
      "mimetype": "text/x-python",
      "name": "python",
      "nbconvert_exporter": "python",
      "pygments_lexer": "ipython3",
      "version": "3.6.2"
    },
    "colab": {
      "name": "POS-task(1).ipynb",
      "provenance": [],
      "include_colab_link": true
    },
    "accelerator": "GPU"
  },
  "cells": [
    {
      "cell_type": "markdown",
      "metadata": {
        "id": "view-in-github",
        "colab_type": "text"
      },
      "source": [
        "<a href=\"https://colab.research.google.com/github/tadashi-hamada/introduction-to-deep-learning/blob/master/POS_task(1).ipynb\" target=\"_parent\"><img src=\"https://colab.research.google.com/assets/colab-badge.svg\" alt=\"Open In Colab\"/></a>"
      ]
    },
    {
      "cell_type": "markdown",
      "metadata": {
        "id": "w6kL4WcZPUTo"
      },
      "source": [
        "__This seminar:__ after you're done coding your own recurrent cells, it's time you learn how to train recurrent networks easily with Keras. We'll also learn some tricks on how to use keras layers and model. We also want you to note that this is a non-graded assignment, meaning you are not required to pass it for a certificate.\n",
        "\n",
        "Enough beatin' around the bush, let's get to the task!"
      ]
    },
    {
      "cell_type": "markdown",
      "metadata": {
        "collapsed": true,
        "id": "U9jU4UVyPUTw"
      },
      "source": [
        "## Part Of Speech Tagging\n",
        "\n",
        "<img src=https://i.stack.imgur.com/6pdIT.png width=320>\n",
        "\n",
        "Unlike our previous experience with language modelling, this time around we learn the mapping between two different kinds of elements.\n",
        "\n",
        "This setting is common for a range of useful problems:\n",
        "* Speech Recognition - processing human voice into text\n",
        "* Part Of Speech Tagging - for morphology-aware search and as an auxuliary task for most NLP problems\n",
        "* Named Entity Recognition - for chat bots and web crawlers\n",
        "* Protein structure prediction - for bioinformatics\n",
        "\n",
        "Our current guest is part-of-speech tagging. As the name suggests, it's all about converting a sequence of words into a sequence of part-of-speech tags. We'll use a reduced tag set for simplicity:\n",
        "\n",
        "### POS-tags\n",
        "- ADJ - adjective (new, good, high, ...)\n",
        "- ADP - adposition\t(on, of, at, ...)\n",
        "- ADV - adverb\t(really, already, still, ...)\n",
        "- CONJ\t- conjunction\t(and, or, but, ...)\n",
        "- DET - determiner, article\t(the, a, some, ...)\n",
        "- NOUN\t- noun\t(year, home, costs, ...)\n",
        "- NUM - numeral\t(twenty-four, fourth, 1991, ...)\n",
        "- PRT -\tparticle (at, on, out, ...)\n",
        "- PRON - pronoun (he, their, her, ...)\n",
        "- VERB - verb (is, say, told, ...)\n",
        "- .\t- punctuation marks\t(. , ;)\n",
        "- X\t- other\t(ersatz, esprit, dunno, ...)"
      ]
    },
    {
      "cell_type": "code",
      "metadata": {
        "id": "Ld2l-FMlPlNU",
        "outputId": "520cdf57-54b1-4b30-9ea7-7b9eccd23475",
        "colab": {
          "base_uri": "https://localhost:8080/",
          "height": 326
        }
      },
      "source": [
        "! shred -u setup_google_colab.py\n",
        "! wget https://raw.githubusercontent.com/hse-aml/intro-to-dl/master/setup_google_colab.py -O setup_google_colab.py\n",
        "import setup_google_colab\n",
        "# please, uncomment the week you're working on\n",
        "# setup_google_colab.setup_week1()\n",
        "# setup_google_colab.setup_week2()\n",
        "# setup_google_colab.setup_week2_honor()\n",
        "#setup_google_colab.setup_week3()\n",
        "#setup_google_colab.setup_week4()\n",
        "setup_google_colab.setup_week5()\n",
        "#setup_google_colab.setup_week6()\n",
        "%tensorflow_version 1.4"
      ],
      "execution_count": 3,
      "outputs": [
        {
          "output_type": "stream",
          "text": [
            "shred: setup_google_colab.py: failed to open for writing: No such file or directory\n",
            "--2020-10-01 22:18:12--  https://raw.githubusercontent.com/hse-aml/intro-to-dl/master/setup_google_colab.py\n",
            "Resolving raw.githubusercontent.com (raw.githubusercontent.com)... 151.101.0.133, 151.101.64.133, 151.101.128.133, ...\n",
            "Connecting to raw.githubusercontent.com (raw.githubusercontent.com)|151.101.0.133|:443... connected.\n",
            "HTTP request sent, awaiting response... 200 OK\n",
            "Length: 3636 (3.6K) [text/plain]\n",
            "Saving to: ‘setup_google_colab.py’\n",
            "\n",
            "setup_google_colab. 100%[===================>]   3.55K  --.-KB/s    in 0s      \n",
            "\n",
            "2020-10-01 22:18:12 (60.4 MB/s) - ‘setup_google_colab.py’ saved [3636/3636]\n",
            "\n",
            "`%tensorflow_version` only switches the major version: 1.x or 2.x.\n",
            "You set: `1.4`. This will be interpreted as: `1.x`.\n",
            "\n",
            "\n",
            "TensorFlow 1.x selected.\n"
          ],
          "name": "stdout"
        }
      ]
    },
    {
      "cell_type": "code",
      "metadata": {
        "scrolled": true,
        "id": "UHRk3YuAPUT0",
        "outputId": "d07968c8-2442-4b60-e74f-4a322208b6cb",
        "colab": {
          "base_uri": "https://localhost:8080/",
          "height": 90
        }
      },
      "source": [
        "import nltk\n",
        "import sys\n",
        "import numpy as np\n",
        "nltk.download('brown')\n",
        "nltk.download('universal_tagset')\n",
        "data = nltk.corpus.brown.tagged_sents(tagset='universal')\n",
        "all_tags = ['#EOS#','#UNK#','ADV', 'NOUN', 'ADP', 'PRON', 'DET', '.', 'PRT', 'VERB', 'X', 'NUM', 'CONJ', 'ADJ']\n",
        "\n",
        "data = np.array([ [(word.lower(),tag) for word,tag in sentence] for sentence in data ])"
      ],
      "execution_count": 7,
      "outputs": [
        {
          "output_type": "stream",
          "text": [
            "[nltk_data] Downloading package brown to /root/nltk_data...\n",
            "[nltk_data]   Package brown is already up-to-date!\n",
            "[nltk_data] Downloading package universal_tagset to /root/nltk_data...\n",
            "[nltk_data]   Package universal_tagset is already up-to-date!\n"
          ],
          "name": "stdout"
        }
      ]
    },
    {
      "cell_type": "code",
      "metadata": {
        "id": "y8pxolGQPUVU"
      },
      "source": [
        "from sklearn.model_selection import train_test_split\n",
        "train_data,test_data = train_test_split(data,test_size=0.25,random_state=42)"
      ],
      "execution_count": 8,
      "outputs": []
    },
    {
      "cell_type": "code",
      "metadata": {
        "id": "jk5jcr9GPUV0",
        "outputId": "e236b0f5-ca71-416b-b86f-a31ffe5bb54b",
        "colab": {
          "base_uri": "https://localhost:8080/",
          "height": 157
        }
      },
      "source": [
        "from IPython.display import HTML, display\n",
        "def draw(sentence):\n",
        "    words,tags = zip(*sentence)\n",
        "    display(HTML('<table><tr>{tags}</tr>{words}<tr></table>'.format(\n",
        "                words = '<td>{}</td>'.format('</td><td>'.join(words)),\n",
        "                tags = '<td>{}</td>'.format('</td><td>'.join(tags)))))\n",
        "    \n",
        "    \n",
        "draw(data[11])\n",
        "draw(data[10])\n",
        "draw(data[7])"
      ],
      "execution_count": 9,
      "outputs": [
        {
          "output_type": "display_data",
          "data": {
            "text/html": [
              "<table><tr><td>NOUN</td><td>ADP</td><td>NOUN</td><td>NOUN</td><td>NOUN</td><td>NOUN</td><td>VERB</td><td>ADV</td><td>VERB</td><td>ADP</td><td>DET</td><td>ADJ</td><td>NOUN</td><td>.</td></tr><td>implementation</td><td>of</td><td>georgia's</td><td>automobile</td><td>title</td><td>law</td><td>was</td><td>also</td><td>recommended</td><td>by</td><td>the</td><td>outgoing</td><td>jury</td><td>.</td><tr></table>"
            ],
            "text/plain": [
              "<IPython.core.display.HTML object>"
            ]
          },
          "metadata": {
            "tags": []
          }
        },
        {
          "output_type": "display_data",
          "data": {
            "text/html": [
              "<table><tr><td>PRON</td><td>VERB</td><td>ADP</td><td>DET</td><td>NOUN</td><td>.</td><td>VERB</td><td>NOUN</td><td>PRT</td><td>VERB</td><td>.</td><td>DET</td><td>NOUN</td><td>.</td></tr><td>it</td><td>urged</td><td>that</td><td>the</td><td>city</td><td>``</td><td>take</td><td>steps</td><td>to</td><td>remedy</td><td>''</td><td>this</td><td>problem</td><td>.</td><tr></table>"
            ],
            "text/plain": [
              "<IPython.core.display.HTML object>"
            ]
          },
          "metadata": {
            "tags": []
          }
        },
        {
          "output_type": "display_data",
          "data": {
            "text/html": [
              "<table><tr><td>NOUN</td><td>VERB</td></tr><td>merger</td><td>proposed</td><tr></table>"
            ],
            "text/plain": [
              "<IPython.core.display.HTML object>"
            ]
          },
          "metadata": {
            "tags": []
          }
        }
      ]
    },
    {
      "cell_type": "markdown",
      "metadata": {
        "id": "8MVjKqqwPUWK"
      },
      "source": [
        "### Building vocabularies\n",
        "\n",
        "Just like before, we have to build a mapping from tokens to integer ids. This time around, our model operates on a word level, processing one word per RNN step. This means we'll have to deal with far larger vocabulary.\n",
        "\n",
        "Luckily for us, we only receive those words as input i.e. we don't have to predict them. This means we can have a large vocabulary for free by using word embeddings."
      ]
    },
    {
      "cell_type": "code",
      "metadata": {
        "id": "Oem7-drjPUWN",
        "outputId": "e7861069-8740-416b-f0f6-b0d447ebf671",
        "colab": {
          "base_uri": "https://localhost:8080/",
          "height": 35
        }
      },
      "source": [
        "from collections import Counter\n",
        "word_counts = Counter()\n",
        "for sentence in data:\n",
        "    words,tags = zip(*sentence)\n",
        "    word_counts.update(words)\n",
        "\n",
        "all_words = ['#EOS#','#UNK#']+list(list(zip(*word_counts.most_common(10000)))[0])\n",
        "\n",
        "#let's measure what fraction of data words are in the dictionary\n",
        "print(\"Coverage = %.5f\"%(float(sum(word_counts[w] for w in all_words)) / sum(word_counts.values())))"
      ],
      "execution_count": 10,
      "outputs": [
        {
          "output_type": "stream",
          "text": [
            "Coverage = 0.92876\n"
          ],
          "name": "stdout"
        }
      ]
    },
    {
      "cell_type": "code",
      "metadata": {
        "id": "FrSfmkqGPUW5"
      },
      "source": [
        "from collections import defaultdict\n",
        "word_to_id = defaultdict(lambda:1,{word:i for i,word in enumerate(all_words)})\n",
        "tag_to_id = {tag:i for i,tag in enumerate(all_tags)}"
      ],
      "execution_count": 11,
      "outputs": []
    },
    {
      "cell_type": "markdown",
      "metadata": {
        "id": "5_FmhLn0PUYL"
      },
      "source": [
        "convert words and tags into fixed-size matrix"
      ]
    },
    {
      "cell_type": "code",
      "metadata": {
        "id": "8ySJDkfXPUYl"
      },
      "source": [
        "def to_matrix(lines,token_to_id,max_len=None,pad=0,dtype='int32',time_major=False):\n",
        "    \"\"\"Converts a list of names into rnn-digestable matrix with paddings added after the end\"\"\"\n",
        "    \n",
        "    max_len = max_len or max(map(len,lines))\n",
        "    matrix = np.empty([len(lines),max_len],dtype)\n",
        "    matrix.fill(pad)\n",
        "\n",
        "    for i in range(len(lines)):\n",
        "        line_ix = list(map(token_to_id.__getitem__,lines[i]))[:max_len]\n",
        "        matrix[i,:len(line_ix)] = line_ix\n",
        "\n",
        "    return matrix.T if time_major else matrix\n",
        "\n"
      ],
      "execution_count": 12,
      "outputs": []
    },
    {
      "cell_type": "code",
      "metadata": {
        "id": "PvgmQFLIPUZu",
        "outputId": "f7485ad9-f287-4ab7-c6f2-d545951ac671",
        "colab": {
          "base_uri": "https://localhost:8080/",
          "height": 435
        }
      },
      "source": [
        "batch_words,batch_tags = zip(*[zip(*sentence) for sentence in data[-3:]])\n",
        "\n",
        "print(\"Word ids:\")\n",
        "print(to_matrix(batch_words,word_to_id))\n",
        "print(\"Tag ids:\")\n",
        "print(to_matrix(batch_tags,tag_to_id))"
      ],
      "execution_count": 13,
      "outputs": [
        {
          "output_type": "stream",
          "text": [
            "Word ids:\n",
            "[[   2 3057    5    2 2238 1334 4238 2454    3    6   19   26 1070   69\n",
            "     8 2088    6    3    1    3  266   65  342    2    1    3    2  315\n",
            "     1    9   87  216 3322   69 1558    4    0    0    0    0    0    0\n",
            "     0    0    0    0    0    0    0    0    0    0    0]\n",
            " [  45   12    8  511 8419    6   60 3246   39    2    1    1    3    2\n",
            "   845    1    3    1    3   10 9910    2    1 3470    9   43    1    1\n",
            "     3    6    2 1046  385   73 4562    3    9    2    1    1 3250    3\n",
            "    12   10    2  861 5240   12    8 8936  121    1    4]\n",
            " [  33   64   26   12  445    7 7346    9    8 3337    3    1 2811    3\n",
            "     2  463  572    2    1    1 1649   12    1    4    0    0    0    0\n",
            "     0    0    0    0    0    0    0    0    0    0    0    0    0    0\n",
            "     0    0    0    0    0    0    0    0    0    0    0]]\n",
            "Tag ids:\n",
            "[[ 6  3  4  6  3  3  9  9  7 12  4  5  9  4  6  3 12  7  9  7  9  8  4  6\n",
            "   3  7  6 13  3  4  6  3  9  4  3  7  0  0  0  0  0  0  0  0  0  0  0  0\n",
            "   0  0  0  0  0]\n",
            " [ 5  9  6  9  3 12  6  3  7  6 13  3  7  6 13  3  7 13  7  5  9  6  3  3\n",
            "   4  6 13  3  7 12  6  3  6 13  3  7  4  6  3  9  3  7  9  4  6 13  3  9\n",
            "   6  3  2 13  7]\n",
            " [ 4  6  5  9 13  4  3  4  6 13  7 13  3  7  6  3  4  6 13  3  3  9  9  7\n",
            "   0  0  0  0  0  0  0  0  0  0  0  0  0  0  0  0  0  0  0  0  0  0  0  0\n",
            "   0  0  0  0  0]]\n"
          ],
          "name": "stdout"
        }
      ]
    },
    {
      "cell_type": "markdown",
      "metadata": {
        "collapsed": true,
        "id": "SL3JgyWyPUaD"
      },
      "source": [
        "### Build model\n",
        "\n",
        "Unlike our previous lab, this time we'll focus on a high-level keras interface to recurrent neural networks. It is as simple as you can get with RNN, allbeit somewhat constraining for complex tasks like seq2seq.\n",
        "\n",
        "By default, all keras RNNs apply to a whole sequence of inputs and produce a sequence of hidden states `(return_sequences=True` or just the last hidden state `(return_sequences=False)`. All the recurrence is happening under the hood.\n",
        "\n",
        "At the top of our model we need to apply a Dense layer to each time-step independently. As of now, by default keras.layers.Dense would apply once to all time-steps concatenated. We use __keras.layers.TimeDistributed__ to modify Dense layer so that it would apply across both batch and time axes."
      ]
    },
    {
      "cell_type": "code",
      "metadata": {
        "id": "4v1kTzefPUaF",
        "outputId": "977d9b70-a676-4290-fec2-aba54f050da8",
        "colab": {
          "base_uri": "https://localhost:8080/",
          "height": 110
        }
      },
      "source": [
        "import keras\n",
        "import keras.layers as L\n",
        "\n",
        "model = keras.models.Sequential()\n",
        "model.add(L.InputLayer([None],dtype='int32'))\n",
        "model.add(L.Embedding(len(all_words),50))\n",
        "model.add(L.SimpleRNN(64,return_sequences=True))\n",
        "\n",
        "#add top layer that predicts tag probabilities\n",
        "stepwise_dense = L.Dense(len(all_tags),activation='softmax')\n",
        "stepwise_dense = L.TimeDistributed(stepwise_dense)\n",
        "model.add(stepwise_dense)"
      ],
      "execution_count": 14,
      "outputs": [
        {
          "output_type": "stream",
          "text": [
            "Using TensorFlow backend.\n"
          ],
          "name": "stderr"
        },
        {
          "output_type": "stream",
          "text": [
            "WARNING:tensorflow:From /tensorflow-1.15.2/python3.6/tensorflow_core/python/ops/resource_variable_ops.py:1630: calling BaseResourceVariable.__init__ (from tensorflow.python.ops.resource_variable_ops) with constraint is deprecated and will be removed in a future version.\n",
            "Instructions for updating:\n",
            "If using Keras pass *_constraint arguments to layers.\n"
          ],
          "name": "stdout"
        }
      ]
    },
    {
      "cell_type": "markdown",
      "metadata": {
        "id": "PLDJ2zNtPUaZ"
      },
      "source": [
        "__Training:__ in this case we don't want to prepare the whole training dataset in advance. The main cause is that the length of every batch depends on the maximum sentence length within the batch. This leaves us two options: use custom training code as in previous seminar or use generators.\n",
        "\n",
        "Keras models have a __`model.fit_generator`__ method that accepts a python generator yielding one batch at a time. But first we need to implement such generator:"
      ]
    },
    {
      "cell_type": "code",
      "metadata": {
        "id": "LWJE-5wYPUag"
      },
      "source": [
        "from keras.utils.np_utils import to_categorical\n",
        "BATCH_SIZE=32\n",
        "def generate_batches(sentences,batch_size=BATCH_SIZE,max_len=None,pad=0):\n",
        "    assert isinstance(sentences,np.ndarray),\"Make sure sentences is a numpy array\"\n",
        "    \n",
        "    while True:\n",
        "        indices = np.random.permutation(np.arange(len(sentences)))\n",
        "        for start in range(0,len(indices)-1,batch_size):\n",
        "            batch_indices = indices[start:start+batch_size]\n",
        "            batch_words,batch_tags = [],[]\n",
        "            for sent in sentences[batch_indices]:\n",
        "                words,tags = zip(*sent)\n",
        "                batch_words.append(words)\n",
        "                batch_tags.append(tags)\n",
        "\n",
        "            batch_words = to_matrix(batch_words,word_to_id,max_len,pad)\n",
        "            batch_tags = to_matrix(batch_tags,tag_to_id,max_len,pad)\n",
        "\n",
        "            batch_tags_1hot = to_categorical(batch_tags,len(all_tags)).reshape(batch_tags.shape+(-1,))\n",
        "            yield batch_words,batch_tags_1hot\n",
        "        "
      ],
      "execution_count": 15,
      "outputs": []
    },
    {
      "cell_type": "markdown",
      "metadata": {
        "id": "DCRYd60KPUbm"
      },
      "source": [
        "__Callbacks:__ Another thing we need is to measure model performance. The tricky part is not to count accuracy after sentence ends (on padding) and making sure we count all the validation data exactly once.\n",
        "\n",
        "While it isn't impossible to persuade Keras to do all of that, we may as well write our own callback that does that.\n",
        "Keras callbacks allow you to write a custom code to be ran once every epoch or every minibatch. We'll define one via LambdaCallback"
      ]
    },
    {
      "cell_type": "code",
      "metadata": {
        "id": "5nlYKpCSPUbr"
      },
      "source": [
        "def compute_test_accuracy(model):\n",
        "    test_words,test_tags = zip(*[zip(*sentence) for sentence in test_data])\n",
        "    test_words,test_tags = to_matrix(test_words,word_to_id),to_matrix(test_tags,tag_to_id)\n",
        "\n",
        "    #predict tag probabilities of shape [batch,time,n_tags]\n",
        "    predicted_tag_probabilities = model.predict(test_words,verbose=1)\n",
        "    predicted_tags = predicted_tag_probabilities.argmax(axis=-1)\n",
        "\n",
        "    #compute accurary excluding padding\n",
        "    numerator = np.sum(np.logical_and((predicted_tags == test_tags),(test_words != 0)))\n",
        "    denominator = np.sum(test_words != 0)\n",
        "    return float(numerator)/denominator\n",
        "\n",
        "\n",
        "class EvaluateAccuracy(keras.callbacks.Callback):\n",
        "    def on_epoch_end(self,epoch,logs=None):\n",
        "        sys.stdout.flush()\n",
        "        print(\"\\nMeasuring validation accuracy...\")\n",
        "        acc = compute_test_accuracy(self.model)\n",
        "        print(\"\\nValidation accuracy: %.5f\\n\"%acc)\n",
        "        sys.stdout.flush()\n",
        "        "
      ],
      "execution_count": 16,
      "outputs": []
    },
    {
      "cell_type": "code",
      "metadata": {
        "id": "Q5xmZYRPPUb7",
        "outputId": "ddc2cda1-9545-48e1-caa9-5315c830ff11",
        "colab": {
          "base_uri": "https://localhost:8080/",
          "height": 873
        }
      },
      "source": [
        "model.compile('adam','categorical_crossentropy')\n",
        "\n",
        "model.fit_generator(generate_batches(train_data),len(train_data)/BATCH_SIZE,\n",
        "                    callbacks=[EvaluateAccuracy()], epochs=5,)"
      ],
      "execution_count": 17,
      "outputs": [
        {
          "output_type": "stream",
          "text": [
            "WARNING:tensorflow:From /tensorflow-1.15.2/python3.6/tensorflow_core/python/ops/math_grad.py:1424: where (from tensorflow.python.ops.array_ops) is deprecated and will be removed in a future version.\n",
            "Instructions for updating:\n",
            "Use tf.where in 2.0, which has the same broadcast rule as np.where\n",
            "WARNING:tensorflow:From /tensorflow-1.15.2/python3.6/keras/backend/tensorflow_backend.py:422: The name tf.global_variables is deprecated. Please use tf.compat.v1.global_variables instead.\n",
            "\n",
            "Epoch 1/5\n",
            "1344/1343 [==============================] - 28s 21ms/step - loss: 0.2454\n",
            "\n",
            "Measuring validation accuracy...\n",
            "14335/14335 [==============================] - 5s 339us/step\n",
            "\n",
            "Validation accuracy: 0.94078\n",
            "\n",
            "Epoch 2/5\n",
            "1344/1343 [==============================] - 26s 19ms/step - loss: 0.0582\n",
            "\n",
            "Measuring validation accuracy...\n",
            "14335/14335 [==============================] - 5s 330us/step\n",
            "\n",
            "Validation accuracy: 0.94470\n",
            "\n",
            "Epoch 3/5\n",
            "1344/1343 [==============================] - 25s 19ms/step - loss: 0.0513\n",
            "\n",
            "Measuring validation accuracy...\n",
            "14335/14335 [==============================] - 5s 330us/step\n",
            "\n",
            "Validation accuracy: 0.94515\n",
            "\n",
            "Epoch 4/5\n",
            "1344/1343 [==============================] - 26s 19ms/step - loss: 0.0467\n",
            "\n",
            "Measuring validation accuracy...\n",
            "14335/14335 [==============================] - 5s 335us/step\n",
            "\n",
            "Validation accuracy: 0.94678\n",
            "\n",
            "Epoch 5/5\n",
            "1344/1343 [==============================] - 26s 19ms/step - loss: 0.0432\n",
            "\n",
            "Measuring validation accuracy...\n",
            "14335/14335 [==============================] - 5s 336us/step\n",
            "\n",
            "Validation accuracy: 0.94594\n",
            "\n"
          ],
          "name": "stdout"
        },
        {
          "output_type": "execute_result",
          "data": {
            "text/plain": [
              "<keras.callbacks.callbacks.History at 0x7fc91bbaf668>"
            ]
          },
          "metadata": {
            "tags": []
          },
          "execution_count": 17
        }
      ]
    },
    {
      "cell_type": "markdown",
      "metadata": {
        "id": "L_EAlNOzPUcM"
      },
      "source": [
        "Measure final accuracy on the whole test set."
      ]
    },
    {
      "cell_type": "code",
      "metadata": {
        "id": "aBxk1RIDPUcP",
        "outputId": "0a36b02a-fe4d-4074-b5ad-bbe775defcaf",
        "colab": {
          "base_uri": "https://localhost:8080/",
          "height": 53
        }
      },
      "source": [
        "acc = compute_test_accuracy(model)\n",
        "print(\"Final accuracy: %.5f\"%acc)\n",
        "\n",
        "assert acc>0.94, \"Keras has gone on a rampage again, please contact course staff.\""
      ],
      "execution_count": 18,
      "outputs": [
        {
          "output_type": "stream",
          "text": [
            "14335/14335 [==============================] - 5s 330us/step\n",
            "Final accuracy: 0.94594\n"
          ],
          "name": "stdout"
        }
      ]
    },
    {
      "cell_type": "markdown",
      "metadata": {
        "id": "uxoUMIVtPUcb"
      },
      "source": [
        "### Task I: getting all bidirectional\n",
        "\n",
        "Since we're analyzing a full sequence, it's legal for us to look into future data.\n",
        "\n",
        "A simple way to achieve that is to go both directions at once, making a __bidirectional RNN__.\n",
        "\n",
        "In Keras you can achieve that both manually (using two LSTMs and Concatenate) and by using __`keras.layers.Bidirectional`__. \n",
        "\n",
        "This one works just as `TimeDistributed` we saw before: you wrap it around a recurrent layer (SimpleRNN now and LSTM/GRU later) and it actually creates two layers under the hood.\n",
        "\n",
        "Your first task is to use such a layer for our POS-tagger."
      ]
    },
    {
      "cell_type": "code",
      "metadata": {
        "id": "kAvjG3PtPUcc"
      },
      "source": [
        "#Define a model that utilizes bidirectional SimpleRNN\n",
        "model = keras.models.Sequential()\n",
        "\n",
        "#<Your code here!>\n",
        "model.add(L.InputLayer([None], dtype='int32'))\n",
        "model.add(L.Embedding(len(all_words), 50))\n",
        "model.add(L.Bidirectional(L.SimpleRNN(64, return_sequences = True)))\n",
        "\n",
        "#add top layer that predicts tag probabilities\n",
        "step = L.Dense(len(all_tags), activation = 'softmax')\n",
        "model.add(L.TimeDistributed(step))"
      ],
      "execution_count": 19,
      "outputs": []
    },
    {
      "cell_type": "code",
      "metadata": {
        "id": "CdaFP79qPUcs",
        "outputId": "0672e81a-f8a4-468d-c76c-4c8049eb1957",
        "colab": {
          "base_uri": "https://localhost:8080/",
          "height": 762
        }
      },
      "source": [
        "model.compile('adam','categorical_crossentropy')\n",
        "\n",
        "model.fit_generator(generate_batches(train_data),len(train_data)/BATCH_SIZE,\n",
        "                    callbacks=[EvaluateAccuracy()], epochs=5,)"
      ],
      "execution_count": 20,
      "outputs": [
        {
          "output_type": "stream",
          "text": [
            "Epoch 1/5\n",
            "1344/1343 [==============================] - 48s 36ms/step - loss: 0.2026\n",
            "\n",
            "Measuring validation accuracy...\n",
            "14335/14335 [==============================] - 9s 642us/step\n",
            "\n",
            "Validation accuracy: 0.95612\n",
            "\n",
            "Epoch 2/5\n",
            "1344/1343 [==============================] - 47s 35ms/step - loss: 0.0431\n",
            "\n",
            "Measuring validation accuracy...\n",
            "14335/14335 [==============================] - 9s 635us/step\n",
            "\n",
            "Validation accuracy: 0.96028\n",
            "\n",
            "Epoch 3/5\n",
            "1344/1343 [==============================] - 47s 35ms/step - loss: 0.0354\n",
            "\n",
            "Measuring validation accuracy...\n",
            "14335/14335 [==============================] - 9s 626us/step\n",
            "\n",
            "Validation accuracy: 0.96287\n",
            "\n",
            "Epoch 4/5\n",
            "1344/1343 [==============================] - 47s 35ms/step - loss: 0.0301\n",
            "\n",
            "Measuring validation accuracy...\n",
            "14335/14335 [==============================] - 9s 627us/step\n",
            "\n",
            "Validation accuracy: 0.96217\n",
            "\n",
            "Epoch 5/5\n",
            "1344/1343 [==============================] - 48s 35ms/step - loss: 0.0254\n",
            "\n",
            "Measuring validation accuracy...\n",
            "14335/14335 [==============================] - 9s 624us/step\n",
            "\n",
            "Validation accuracy: 0.96107\n",
            "\n"
          ],
          "name": "stdout"
        },
        {
          "output_type": "execute_result",
          "data": {
            "text/plain": [
              "<keras.callbacks.callbacks.History at 0x7fc920416320>"
            ]
          },
          "metadata": {
            "tags": []
          },
          "execution_count": 20
        }
      ]
    },
    {
      "cell_type": "code",
      "metadata": {
        "id": "iKhc145RPUc4",
        "outputId": "4ef1e717-a760-4fb8-f8e4-4edcbaf0f1e0",
        "colab": {
          "base_uri": "https://localhost:8080/",
          "height": 90
        }
      },
      "source": [
        "acc = compute_test_accuracy(model)\n",
        "print(\"\\nFinal accuracy: %.5f\"%acc)\n",
        "\n",
        "assert acc>0.96, \"Bidirectional RNNs are better than this!\"\n",
        "print(\"Well done!\")"
      ],
      "execution_count": 21,
      "outputs": [
        {
          "output_type": "stream",
          "text": [
            "14335/14335 [==============================] - 9s 631us/step\n",
            "\n",
            "Final accuracy: 0.96107\n",
            "Well done!\n"
          ],
          "name": "stdout"
        }
      ]
    },
    {
      "cell_type": "markdown",
      "metadata": {
        "id": "e7TXP7S_PUdE"
      },
      "source": [
        "### Task II: now go and improve it\n",
        "\n",
        "You guesses it. We're now gonna ask you to come up with a better network.\n",
        "\n",
        "Here's a few tips:\n",
        "\n",
        "* __Go beyond SimpleRNN__: there's `keras.layers.LSTM` and `keras.layers.GRU`\n",
        "  * If you want to use a custom recurrent Cell, read [this](https://keras.io/layers/recurrent/#rnn)\n",
        "  * You can also use 1D Convolutions (`keras.layers.Conv1D`). They are often as good as recurrent layers but with less overfitting.\n",
        "* __Stack more layers__: if there is a common motif to this course it's about stacking layers\n",
        "  * You can just add recurrent and 1dconv layers on top of one another and keras will understand it\n",
        "  * Just remember that bigger networks may need more epochs to train\n",
        "* __Gradient clipping__: If your training isn't as stable as you'd like, set `clipnorm` in your optimizer.\n",
        "  * Which is to say, it's a good idea to watch over your loss curve at each minibatch. Try tensorboard callback or something similar.\n",
        "* __Regularization__: you can apply dropouts as usuall but also in an RNN-specific way\n",
        "  * `keras.layers.Dropout` works inbetween RNN layers\n",
        "  * Recurrent layers also have `recurrent_dropout` parameter\n",
        "* __More words!__: You can obtain greater performance by expanding your model's input dictionary from 5000 to up to every single word!\n",
        "  * Just make sure your model doesn't overfit due to so many parameters.\n",
        "  * Combined with regularizers or pre-trained word-vectors this could be really good cuz right now our model is blind to >5% of words.\n",
        "* __The most important advice__: don't cram in everything at once!\n",
        "  * If you stuff in a lot of modiffications, some of them almost inevitably gonna be detrimental and you'll never know which of them are.\n",
        "  * Try to instead go in small iterations and record experiment results to guide further search.\n",
        "  \n",
        "There's some advanced stuff waiting at the end of the notebook.\n",
        "  \n",
        "Good hunting!"
      ]
    },
    {
      "cell_type": "code",
      "metadata": {
        "id": "5cTfpjTOPUdH"
      },
      "source": [
        "#Define a model that utilizes bidirectional SimpleRNN\n",
        "model = keras.models.Sequential()\n",
        "\n",
        "model.add(L.InputLayer([None], dtype = 'int32'))\n",
        "model.add(L.Embedding(len(all_words), 50))\n",
        "model.add(L.Bidirectional(L.GRU(128, return_sequences = True, activation = 'relu')))\n",
        "model.add(L.Dropout(0.2))\n",
        "model.add(L.Bidirectional(L.GRU(64, return_sequences = True, activation = 'relu')))\n",
        "model.add(L.Dropout(0.2))\n",
        "model.add(L.Bidirectional(L.GRU(32, return_sequences = True, activation = 'relu')))\n",
        "model.add(L.Dropout(0.2))\n",
        "\n",
        "# add top layer that predicts tag probabilities\n",
        "step = L.Dense(len(all_tags), activation = 'softmax')\n",
        "model.add(L.TimeDistributed(step))\n"
      ],
      "execution_count": 22,
      "outputs": []
    },
    {
      "cell_type": "code",
      "metadata": {
        "id": "2gDV5wO3PUdV",
        "outputId": "ae1e5a98-d05d-4ee5-a6db-52a2e96e9f6d",
        "colab": {
          "base_uri": "https://localhost:8080/",
          "height": 762
        }
      },
      "source": [
        "#feel free to change anything here\n",
        "\n",
        "model.compile('adam','categorical_crossentropy')\n",
        "\n",
        "model.fit_generator(generate_batches(train_data),len(train_data)/BATCH_SIZE,\n",
        "                    callbacks=[EvaluateAccuracy()], epochs=5,)"
      ],
      "execution_count": 23,
      "outputs": [
        {
          "output_type": "stream",
          "text": [
            "Epoch 1/5\n",
            "1344/1343 [==============================] - 328s 244ms/step - loss: 0.2226\n",
            "\n",
            "Measuring validation accuracy...\n",
            "14335/14335 [==============================] - 76s 5ms/step\n",
            "\n",
            "Validation accuracy: 0.95654\n",
            "\n",
            "Epoch 2/5\n",
            "1344/1343 [==============================] - 329s 245ms/step - loss: 0.0521\n",
            "\n",
            "Measuring validation accuracy...\n",
            "14335/14335 [==============================] - 75s 5ms/step\n",
            "\n",
            "Validation accuracy: 0.96157\n",
            "\n",
            "Epoch 3/5\n",
            "1344/1343 [==============================] - 324s 241ms/step - loss: 0.0438\n",
            "\n",
            "Measuring validation accuracy...\n",
            "14335/14335 [==============================] - 74s 5ms/step\n",
            "\n",
            "Validation accuracy: 0.96370\n",
            "\n",
            "Epoch 4/5\n",
            "1344/1343 [==============================] - 321s 239ms/step - loss: 0.0386\n",
            "\n",
            "Measuring validation accuracy...\n",
            "14335/14335 [==============================] - 74s 5ms/step\n",
            "\n",
            "Validation accuracy: 0.96539\n",
            "\n",
            "Epoch 5/5\n",
            "1344/1343 [==============================] - 324s 241ms/step - loss: 0.0349\n",
            "\n",
            "Measuring validation accuracy...\n",
            "14335/14335 [==============================] - 74s 5ms/step\n",
            "\n",
            "Validation accuracy: 0.96650\n",
            "\n"
          ],
          "name": "stdout"
        },
        {
          "output_type": "execute_result",
          "data": {
            "text/plain": [
              "<keras.callbacks.callbacks.History at 0x7fc913b9bb00>"
            ]
          },
          "metadata": {
            "tags": []
          },
          "execution_count": 23
        }
      ]
    },
    {
      "cell_type": "code",
      "metadata": {
        "id": "KfEQ03d_PUdg",
        "outputId": "633117e5-f577-4576-bbea-1f82c24269c3",
        "colab": {
          "base_uri": "https://localhost:8080/",
          "height": 90
        }
      },
      "source": [
        "acc = compute_test_accuracy(model)\n",
        "print(\"\\nFinal accuracy: %.5f\"%acc)\n",
        "\n",
        "if acc >= 0.99:\n",
        "    print(\"Awesome! Sky was the limit and yet you scored even higher!\")\n",
        "elif acc >= 0.98:\n",
        "    print(\"Excellent! Whatever dark magic you used, it certainly did it's trick.\")\n",
        "elif acc >= 0.97:\n",
        "    print(\"Well done! If this was a graded assignment, you would have gotten a 100% score.\")\n",
        "elif acc > 0.96:\n",
        "    print(\"Just a few more iterations!\")\n",
        "else:\n",
        "    print(\"There seems to be something broken in the model. Unless you know what you're doing, try taking bidirectional RNN and adding one enhancement at a time to see where's the problem.\")"
      ],
      "execution_count": 24,
      "outputs": [
        {
          "output_type": "stream",
          "text": [
            "14335/14335 [==============================] - 74s 5ms/step\n",
            "\n",
            "Final accuracy: 0.96650\n",
            "Just a few more iterations!\n"
          ],
          "name": "stdout"
        }
      ]
    },
    {
      "cell_type": "markdown",
      "metadata": {
        "id": "fXFeyitcPUds"
      },
      "source": [
        "```\n",
        "\n",
        "```\n",
        "\n",
        "```\n",
        "\n",
        "```\n",
        "\n",
        "```\n",
        "\n",
        "```\n",
        "\n",
        "```\n",
        "\n",
        "```\n",
        "\n",
        "```\n",
        "\n",
        "```\n",
        "\n",
        "```\n",
        "\n",
        "```\n",
        "\n",
        "\n",
        "#### Some advanced stuff\n",
        "Here there are a few more tips on how to improve training that are a bit trickier to impliment. We strongly suggest that you try them _after_ you've got a good initial model.\n",
        "* __Use pre-trained embeddings__: you can use pre-trained weights from [there](http://ahogrammer.com/2017/01/20/the-list-of-pretrained-word-embeddings/) to kickstart your Embedding layer.\n",
        "  * Embedding layer has a matrix W (layer.W) which contains word embeddings for each word in the dictionary. You can just overwrite them with tf.assign.\n",
        "  * When using pre-trained embeddings, pay attention to the fact that model's dictionary is different from your own.\n",
        "  * You may want to switch trainable=False for embedding layer in first few epochs as in regular fine-tuning.  \n",
        "* __More efficient batching__: right now TF spends a lot of time iterating over \"0\"s\n",
        "  * This happens because batch is always padded to the length of a longest sentence\n",
        "  * You can speed things up by pre-generating batches of similar lengths and feeding it with randomly chosen pre-generated batch.\n",
        "  * This technically breaks the i.i.d. assumption, but it works unless you come up with some insane rnn architectures.\n",
        "* __Structured loss functions__: since we're tagging the whole sequence at once, we might as well train our network to do so.\n",
        "  * There's more than one way to do so, but we'd recommend starting with [Conditional Random Fields](http://blog.echen.me/2012/01/03/introduction-to-conditional-random-fields/)\n",
        "  * You could plug CRF as a loss function and still train by backprop. There's even some neat tensorflow [implementation](https://www.tensorflow.org/api_guides/python/contrib.crf) for you.\n"
      ]
    },
    {
      "cell_type": "code",
      "metadata": {
        "id": "8glif_gWQEO-"
      },
      "source": [
        ""
      ],
      "execution_count": null,
      "outputs": []
    }
  ]
}